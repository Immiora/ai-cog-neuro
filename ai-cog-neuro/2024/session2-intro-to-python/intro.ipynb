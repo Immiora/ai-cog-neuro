{
 "cells": [
  {
   "cell_type": "code",
   "execution_count": 5,
   "metadata": {},
   "outputs": [],
   "source": [
    "# jupyter magics\n",
    "%matplotlib inline\n",
    "%config IPCompleter.greedy=True\n",
    "\n",
    "# multiple output\n",
    "from IPython.core.interactiveshell import InteractiveShell\n",
    "InteractiveShell.ast_node_interactivity = \"all\""
   ]
  },
  {
   "cell_type": "code",
   "execution_count": 3,
   "metadata": {},
   "outputs": [
    {
     "name": "stdout",
     "output_type": "stream",
     "text": [
      "[10, 20, 1]\n",
      "[0, 1, 2, 3, 4, 5, 6, 7, 8, 9, 10, 20, 1]\n",
      "{0, 1, 2, 3, 4, 5, 6, 7, 8, 9, 10, 20}\n",
      "Hello world!\n",
      "{'list1': [10, 20, 1], 'list2': [0, 1, 2, 3, 4, 5, 6, 7, 8, 9, 10, 20, 1], 'set': {0, 1, 2, 3, 4, 5, 6, 7, 8, 9, 10, 20}, 'strList': ['Hello', 'world!']}\n"
     ]
    }
   ],
   "source": [
    "# built-in types\n",
    "myList1 = [10, 20, 1]\n",
    "myList2 = list(range(10)) + myList1\n",
    "mySet   = set(myList2)\n",
    "myStr1  = \"Hello\"\n",
    "myStr2  = ' world!'\n",
    "myStr3  = myStr1 + myStr2\n",
    "myDict  = {'list1': myList1, 'list2': myList2, 'set': mySet, 'strList': myStr3.split(' ')}  \n",
    "\n",
    "print(myList1)\n",
    "print(myList2)\n",
    "print(mySet)\n",
    "print(myStr3)\n",
    "print(myDict)\n"
   ]
  },
  {
   "cell_type": "code",
   "execution_count": 4,
   "metadata": {},
   "outputs": [
    {
     "name": "stdout",
     "output_type": "stream",
     "text": [
      "[ 0  1  2  3  4  5  6  7  8  9 10 20  1]\n",
      "[[-0.12427349 -0.04556924 -0.13225301  0.35306921]\n",
      " [ 1.04421544 -0.77526302 -2.23299668  2.04725808]\n",
      " [ 1.01725373 -0.54090066  1.28421501 -1.03078033]\n",
      " [-0.7212302   1.34454039 -0.94499381 -0.0170201 ]]\n"
     ]
    }
   ],
   "source": [
    "# numpy \n",
    "import numpy as np\n",
    "\n",
    "myAr1 = np.array(myList2)\n",
    "myAr2 = np.random.normal(size=(4, 4))\n",
    "\n",
    "print(myAr1)\n",
    "print(myAr2)"
   ]
  },
  {
   "cell_type": "code",
   "execution_count": 26,
   "metadata": {},
   "outputs": [
    {
     "name": "stdout",
     "output_type": "stream",
     "text": [
      "[[-0.12467508  0.22940877  0.1577673   1.16878545]\n",
      " [ 0.4991065   0.03033028 -0.27178403  1.01699146]\n",
      " [ 0.08576373  0.1649798   0.26308612 -0.21842557]\n",
      " [ 0.28994499 -0.40619633  0.15007667 -0.35645059]]\n"
     ]
    }
   ],
   "source": [
    "# scipy\n",
    "from scipy import linalg\n",
    "myInvAr2 = linalg.inv(myAr2)\n",
    "\n",
    "print(myInvAr2)"
   ]
  }
 ],
 "metadata": {
  "kernelspec": {
   "display_name": "Python 3 (ipykernel)",
   "language": "python",
   "name": "python3"
  },
  "language_info": {
   "codemirror_mode": {
    "name": "ipython",
    "version": 3
   },
   "file_extension": ".py",
   "mimetype": "text/x-python",
   "name": "python",
   "nbconvert_exporter": "python",
   "pygments_lexer": "ipython3",
   "version": "3.11.6"
  }
 },
 "nbformat": 4,
 "nbformat_minor": 4
}
