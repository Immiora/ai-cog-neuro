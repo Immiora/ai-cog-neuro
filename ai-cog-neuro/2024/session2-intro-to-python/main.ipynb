{
 "cells": [
  {
   "cell_type": "markdown",
   "id": "217ec893-0d1f-4ba9-9c06-989427cfc30a",
   "metadata": {},
   "source": [
    "### Session 2. Python primer\n",
    "\n",
    "- [ ] Conda, terminal, python versions\n",
    "- [ ] Conda environments\n",
    "- [ ] Jupyter notebook & Pycharm\n",
    "- [ ] Project setup in Pycharm, debugging\n",
    "- [ ] Python modules: imports and init\n",
    "- [ ] Basics of Python syntax\n",
    "- [ ] Datatypes: lists, strings\n",
    "- [ ] Numpy: arrays and linear algebra, vector operations\n",
    "- [ ] Scipy: signal processing routines, statistics\n",
    "- [ ] Pandas: tabular data\n",
    "- [ ] Scikit-learn: machine learning library\n",
    "- [ ] Matplotlib: plotting\n",
    "- [ ] Neuro-specific tools: nibabel, MNE-python"
   ]
  },
  {
   "cell_type": "markdown",
   "id": "c29944ef-89bd-46bf-a2d4-138ba501c136",
   "metadata": {},
   "source": [
    "[](https://res.cloudinary.com/canonical/image/fetch/f_auto,q_auto,fl_sanitize,w_819,h_462/https://dashboard.snapcraft.io/site_media/appmedia/2017/12/pycharm_com_general.png)\n"
   ]
  }
 ],
 "metadata": {
  "kernelspec": {
   "display_name": "Python 3 (ipykernel)",
   "language": "python",
   "name": "python3"
  },
  "language_info": {
   "codemirror_mode": {
    "name": "ipython",
    "version": 3
   },
   "file_extension": ".py",
   "mimetype": "text/x-python",
   "name": "python",
   "nbconvert_exporter": "python",
   "pygments_lexer": "ipython3",
   "version": "3.11.6"
  }
 },
 "nbformat": 4,
 "nbformat_minor": 5
}
