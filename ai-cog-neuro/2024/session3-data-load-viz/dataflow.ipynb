{
 "cells": [
  {
   "cell_type": "markdown",
   "metadata": {
    "colab_type": "text",
    "id": "view-in-github"
   },
   "source": [
    "<a href=\"https://colab.research.google.com/github/Immiora/ai-cog-neuro/blob/main/ai-cog-neuro/2024/session3-data-load-viz/dataflow.ipynb\" target=\"_parent\"><img src=\"https://colab.research.google.com/assets/colab-badge.svg\" alt=\"Open In Colab\"/></a>"
   ]
  },
  {
   "cell_type": "markdown",
   "metadata": {
    "id": "IOKO5QklVEOb"
   },
   "source": [
    "# Basic data tutorial"
   ]
  },
  {
   "cell_type": "code",
   "execution_count": null,
   "metadata": {},
   "outputs": [],
   "source": [
    "!pip install mne\n",
    "!pip install mne-bids"
   ]
  },
  {
   "cell_type": "code",
   "execution_count": null,
   "metadata": {
    "id": "-p5KOlHEixzb"
   },
   "outputs": [],
   "source": [
    "# Imports\n",
    "import os.path as op\n",
    "import numpy as np\n",
    "import matplotlib.pyplot as plt\n",
    "import sklearn\n",
    "import mne\n",
    "import mne_bids"
   ]
  },
  {
   "cell_type": "markdown",
   "metadata": {
    "id": "3Ueb53V2VD0-"
   },
   "source": [
    "### Loading and Understanding Data"
   ]
  },
  {
   "cell_type": "code",
   "execution_count": null,
   "metadata": {
    "id": "MgSl-l9lVm4X"
   },
   "outputs": [],
   "source": [
    "# Loading data is easier if you are processing locally\n",
    "!git clone https://gin.g-node.org/sappelhoff/eeg_matchingpennies.git\n",
    "!wget -P eeg_matchingpennies/sub-05/eeg/ https://gin.g-node.org/sappelhoff/eeg_matchingpennies/raw/master/sub-05/eeg/sub-05_task-matchingpennies_eeg.eeg"
   ]
  },
  {
   "cell_type": "code",
   "execution_count": null,
   "metadata": {
    "id": "W9NbDFX_GzZE"
   },
   "outputs": [],
   "source": [
    "# There are non-MNE, lighter approaches if you have the time to implement a more specific data loader.\n",
    "bids_root = \"eeg_matchingpennies\"\n",
    "bids_path = mne_bids.BIDSPath(root=bids_root, subject=\"05\",\n",
    "                              task=\"matchingpennies\", datatype=\"eeg\", suffix=\"eeg\")\n",
    "eeg_raw = mne_bids.read_raw_bids(bids_path, verbose=False)\n",
    "eeg_raw.load_data()\n",
    "eeg_raw.info"
   ]
  },
  {
   "cell_type": "code",
   "execution_count": null,
   "metadata": {
    "id": "dbyQFmw-XYvJ"
   },
   "outputs": [],
   "source": [
    "eeg_raw.plot()"
   ]
  },
  {
   "cell_type": "markdown",
   "metadata": {},
   "source": [
    "### Frequency-domain plot"
   ]
  },
  {
   "cell_type": "code",
   "execution_count": null,
   "metadata": {},
   "outputs": [],
   "source": [
    "eeg_raw.compute_psd().plot()"
   ]
  },
  {
   "cell_type": "markdown",
   "metadata": {},
   "source": [
    "### Dataset summary"
   ]
  },
  {
   "cell_type": "code",
   "execution_count": null,
   "metadata": {},
   "outputs": [],
   "source": [
    "eeg_raw.describe()"
   ]
  },
  {
   "cell_type": "markdown",
   "metadata": {
    "id": "WW7pWaEBVngR"
   },
   "source": [
    "### Pre-Processing"
   ]
  },
  {
   "cell_type": "code",
   "execution_count": null,
   "metadata": {
    "id": "cil5o7auVn1c"
   },
   "outputs": [],
   "source": [
    "# high-pass filter\n",
    "eeg_raw.filter(l_freq=0.1, h_freq=None, fir_design=\"firwin\", verbose=False)\n",
    "\n",
    "# epoch data based on events\n",
    "id_dict = {\"raised-left/match-true\": 1, \"raised-right/match-false\": 1}\n",
    "events, event_ids = mne.events_from_annotations(eeg_raw, event_id=id_dict, verbose=False)\n",
    "tmin, tmax = 0, 4  # in s\n",
    "baseline = None\n",
    "eeg_epochs = mne.Epochs(\n",
    "    eeg_raw,\n",
    "    events=events,\n",
    "    event_id=event_ids,\n",
    "    tmin=tmin,\n",
    "    tmax=tmax,\n",
    "    baseline=baseline,\n",
    "    verbose=False)\n",
    "\n",
    "eeg_epochs.plot(n_epochs=10, picks=['eeg'])"
   ]
  }
 ],
 "metadata": {
  "colab": {
   "authorship_tag": "ABX9TyMy98LXFLS04C/zmG07D7SD",
   "include_colab_link": true,
   "private_outputs": true,
   "provenance": []
  },
  "kernelspec": {
   "display_name": "ai_course",
   "language": "python",
   "name": "ai_course"
  },
  "language_info": {
   "codemirror_mode": {
    "name": "ipython",
    "version": 3
   },
   "file_extension": ".py",
   "mimetype": "text/x-python",
   "name": "python",
   "nbconvert_exporter": "python",
   "pygments_lexer": "ipython3",
   "version": "3.11.6"
  }
 },
 "nbformat": 4,
 "nbformat_minor": 4
}
