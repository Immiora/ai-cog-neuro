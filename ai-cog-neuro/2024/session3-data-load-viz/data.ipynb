{
 "cells": [
  {
   "cell_type": "markdown",
   "metadata": {
    "colab_type": "text",
    "id": "view-in-github"
   },
   "source": [
    "<a href=\"https://colab.research.google.com/github/tangemicioglu/tutorial-bci-meeting/blob/main/BCI_Meeting_ML_Tutorial.ipynb\" target=\"_parent\"><img src=\"https://colab.research.google.com/assets/colab-badge.svg\" alt=\"Open In Colab\"/></a>"
   ]
  },
  {
   "cell_type": "markdown",
   "metadata": {
    "id": "IOKO5QklVEOb"
   },
   "source": [
    "# BCI Meeting ML Tutorial"
   ]
  },
  {
   "cell_type": "code",
   "execution_count": 1,
   "metadata": {},
   "outputs": [
    {
     "name": "stdout",
     "output_type": "stream",
     "text": [
      "# conda environments:\n",
      "#\n",
      "                         /home/julia/Documents/Python/anaconda3\n",
      "                         /home/julia/Documents/Python/anaconda3/envs/aligner\n",
      "                         /home/julia/Documents/Python/anaconda3/envs/aligner_latest\n",
      "                         /home/julia/Documents/Python/anaconda3/envs/azure\n",
      "                         /home/julia/Documents/Python/anaconda3/envs/chainer\n",
      "                         /home/julia/Documents/Python/anaconda3/envs/deepspeech2\n",
      "                         /home/julia/Documents/Python/anaconda3/envs/evan2022\n",
      "                         /home/julia/Documents/Python/anaconda3/envs/evi\n",
      "                         /home/julia/Documents/Python/anaconda3/envs/ezmsg\n",
      "                         /home/julia/Documents/Python/anaconda3/envs/ezmsg2\n",
      "                         /home/julia/Documents/Python/anaconda3/envs/ezmsg3\n",
      "                         /home/julia/Documents/Python/anaconda3/envs/ezmsg4\n",
      "                         /home/julia/Documents/Python/anaconda3/envs/mne\n",
      "                         /home/julia/Documents/Python/anaconda3/envs/mne23\n",
      "                         /home/julia/Documents/Python/anaconda3/envs/mne_mamba\n",
      "                         /home/julia/Documents/Python/anaconda3/envs/mne_pip\n",
      "                         /home/julia/Documents/Python/anaconda3/envs/opencv\n",
      "                         /home/julia/Documents/Python/anaconda3/envs/parallel_wavegan\n",
      "                         /home/julia/Documents/Python/anaconda3/envs/rfe_jipjan\n",
      "                         /home/julia/Documents/Python/anaconda3/envs/rfe_jipjan2\n",
      "                         /home/julia/Documents/Python/anaconda3/envs/scrapy\n",
      "                         /home/julia/Documents/Python/anaconda3/envs/tensorflow\n",
      "                         /home/julia/Documents/Python/anaconda3/envs/testgdal\n",
      "                         /home/julia/Documents/Python/anaconda3/envs/torch\n",
      "                         /home/julia/Documents/Python/mne-python/1.0.3_0\n",
      "base                     /home/julia/miniconda3\n",
      "ai_course             *  /home/julia/miniconda3/envs/ai_course\n",
      "aligner                  /home/julia/miniconda3/envs/aligner\n",
      "azure                    /home/julia/miniconda3/envs/azure\n",
      "evi2024                  /home/julia/miniconda3/envs/evi2024\n",
      "ezmsg                    /home/julia/miniconda3/envs/ezmsg\n",
      "mne                      /home/julia/miniconda3/envs/mne\n",
      "parallel_wavegan         /home/julia/miniconda3/envs/parallel_wavegan\n",
      "rfe_jipjan               /home/julia/miniconda3/envs/rfe_jipjan\n",
      "torch                    /home/julia/miniconda3/envs/torch\n",
      "\n"
     ]
    }
   ],
   "source": [
    "!conda info --env"
   ]
  },
  {
   "cell_type": "code",
   "execution_count": 7,
   "metadata": {},
   "outputs": [
    {
     "name": "stdout",
     "output_type": "stream",
     "text": [
      "Requirement already satisfied: mne in /home/julia/miniconda3/envs/ai_course/lib/python3.12/site-packages (1.7.0)\n",
      "Requirement already satisfied: decorator in /home/julia/miniconda3/envs/ai_course/lib/python3.12/site-packages (from mne) (5.1.1)\n",
      "Requirement already satisfied: jinja2 in /home/julia/miniconda3/envs/ai_course/lib/python3.12/site-packages (from mne) (3.1.4)\n",
      "Requirement already satisfied: lazy-loader>=0.3 in /home/julia/miniconda3/envs/ai_course/lib/python3.12/site-packages (from mne) (0.4)\n",
      "Requirement already satisfied: matplotlib>=3.5.0 in /home/julia/miniconda3/envs/ai_course/lib/python3.12/site-packages (from mne) (3.8.4)\n",
      "Requirement already satisfied: numpy>=1.21.2 in /home/julia/miniconda3/envs/ai_course/lib/python3.12/site-packages (from mne) (1.26.4)\n",
      "Requirement already satisfied: packaging in /home/julia/miniconda3/envs/ai_course/lib/python3.12/site-packages (from mne) (24.0)\n",
      "Requirement already satisfied: pooch>=1.5 in /home/julia/miniconda3/envs/ai_course/lib/python3.12/site-packages (from mne) (1.8.1)\n",
      "Requirement already satisfied: scipy>=1.7.1 in /home/julia/miniconda3/envs/ai_course/lib/python3.12/site-packages (from mne) (1.13.0)\n",
      "Requirement already satisfied: tqdm in /home/julia/miniconda3/envs/ai_course/lib/python3.12/site-packages (from mne) (4.66.4)\n",
      "Requirement already satisfied: contourpy>=1.0.1 in /home/julia/miniconda3/envs/ai_course/lib/python3.12/site-packages (from matplotlib>=3.5.0->mne) (1.2.1)\n",
      "Requirement already satisfied: cycler>=0.10 in /home/julia/miniconda3/envs/ai_course/lib/python3.12/site-packages (from matplotlib>=3.5.0->mne) (0.12.1)\n",
      "Requirement already satisfied: fonttools>=4.22.0 in /home/julia/miniconda3/envs/ai_course/lib/python3.12/site-packages (from matplotlib>=3.5.0->mne) (4.51.0)\n",
      "Requirement already satisfied: kiwisolver>=1.3.1 in /home/julia/miniconda3/envs/ai_course/lib/python3.12/site-packages (from matplotlib>=3.5.0->mne) (1.4.5)\n",
      "Requirement already satisfied: pillow>=8 in /home/julia/miniconda3/envs/ai_course/lib/python3.12/site-packages (from matplotlib>=3.5.0->mne) (10.3.0)\n",
      "Requirement already satisfied: pyparsing>=2.3.1 in /home/julia/miniconda3/envs/ai_course/lib/python3.12/site-packages (from matplotlib>=3.5.0->mne) (3.1.2)\n",
      "Requirement already satisfied: python-dateutil>=2.7 in /home/julia/miniconda3/envs/ai_course/lib/python3.12/site-packages (from matplotlib>=3.5.0->mne) (2.9.0.post0)\n",
      "Requirement already satisfied: platformdirs>=2.5.0 in /home/julia/miniconda3/envs/ai_course/lib/python3.12/site-packages (from pooch>=1.5->mne) (4.2.1)\n",
      "Requirement already satisfied: requests>=2.19.0 in /home/julia/miniconda3/envs/ai_course/lib/python3.12/site-packages (from pooch>=1.5->mne) (2.31.0)\n",
      "Requirement already satisfied: MarkupSafe>=2.0 in /home/julia/miniconda3/envs/ai_course/lib/python3.12/site-packages (from jinja2->mne) (2.1.5)\n",
      "Requirement already satisfied: six>=1.5 in /home/julia/miniconda3/envs/ai_course/lib/python3.12/site-packages (from python-dateutil>=2.7->matplotlib>=3.5.0->mne) (1.16.0)\n",
      "Requirement already satisfied: charset-normalizer<4,>=2 in /home/julia/miniconda3/envs/ai_course/lib/python3.12/site-packages (from requests>=2.19.0->pooch>=1.5->mne) (3.3.2)\n",
      "Requirement already satisfied: idna<4,>=2.5 in /home/julia/miniconda3/envs/ai_course/lib/python3.12/site-packages (from requests>=2.19.0->pooch>=1.5->mne) (3.7)\n",
      "Requirement already satisfied: urllib3<3,>=1.21.1 in /home/julia/miniconda3/envs/ai_course/lib/python3.12/site-packages (from requests>=2.19.0->pooch>=1.5->mne) (2.2.1)\n",
      "Requirement already satisfied: certifi>=2017.4.17 in /home/julia/miniconda3/envs/ai_course/lib/python3.12/site-packages (from requests>=2.19.0->pooch>=1.5->mne) (2024.2.2)\n",
      "Requirement already satisfied: mne-bids in /home/julia/miniconda3/envs/ai_course/lib/python3.12/site-packages (0.14)\n",
      "Requirement already satisfied: mne>=1.4 in /home/julia/miniconda3/envs/ai_course/lib/python3.12/site-packages (from mne-bids) (1.7.0)\n",
      "Requirement already satisfied: numpy>=1.20.2 in /home/julia/miniconda3/envs/ai_course/lib/python3.12/site-packages (from mne-bids) (1.26.4)\n",
      "Requirement already satisfied: scipy>=1.6.3 in /home/julia/miniconda3/envs/ai_course/lib/python3.12/site-packages (from mne-bids) (1.13.0)\n",
      "Requirement already satisfied: decorator in /home/julia/miniconda3/envs/ai_course/lib/python3.12/site-packages (from mne>=1.4->mne-bids) (5.1.1)\n",
      "Requirement already satisfied: jinja2 in /home/julia/miniconda3/envs/ai_course/lib/python3.12/site-packages (from mne>=1.4->mne-bids) (3.1.4)\n",
      "Requirement already satisfied: lazy-loader>=0.3 in /home/julia/miniconda3/envs/ai_course/lib/python3.12/site-packages (from mne>=1.4->mne-bids) (0.4)\n",
      "Requirement already satisfied: matplotlib>=3.5.0 in /home/julia/miniconda3/envs/ai_course/lib/python3.12/site-packages (from mne>=1.4->mne-bids) (3.8.4)\n",
      "Requirement already satisfied: packaging in /home/julia/miniconda3/envs/ai_course/lib/python3.12/site-packages (from mne>=1.4->mne-bids) (24.0)\n",
      "Requirement already satisfied: pooch>=1.5 in /home/julia/miniconda3/envs/ai_course/lib/python3.12/site-packages (from mne>=1.4->mne-bids) (1.8.1)\n",
      "Requirement already satisfied: tqdm in /home/julia/miniconda3/envs/ai_course/lib/python3.12/site-packages (from mne>=1.4->mne-bids) (4.66.4)\n",
      "Requirement already satisfied: contourpy>=1.0.1 in /home/julia/miniconda3/envs/ai_course/lib/python3.12/site-packages (from matplotlib>=3.5.0->mne>=1.4->mne-bids) (1.2.1)\n",
      "Requirement already satisfied: cycler>=0.10 in /home/julia/miniconda3/envs/ai_course/lib/python3.12/site-packages (from matplotlib>=3.5.0->mne>=1.4->mne-bids) (0.12.1)\n",
      "Requirement already satisfied: fonttools>=4.22.0 in /home/julia/miniconda3/envs/ai_course/lib/python3.12/site-packages (from matplotlib>=3.5.0->mne>=1.4->mne-bids) (4.51.0)\n",
      "Requirement already satisfied: kiwisolver>=1.3.1 in /home/julia/miniconda3/envs/ai_course/lib/python3.12/site-packages (from matplotlib>=3.5.0->mne>=1.4->mne-bids) (1.4.5)\n",
      "Requirement already satisfied: pillow>=8 in /home/julia/miniconda3/envs/ai_course/lib/python3.12/site-packages (from matplotlib>=3.5.0->mne>=1.4->mne-bids) (10.3.0)\n",
      "Requirement already satisfied: pyparsing>=2.3.1 in /home/julia/miniconda3/envs/ai_course/lib/python3.12/site-packages (from matplotlib>=3.5.0->mne>=1.4->mne-bids) (3.1.2)\n",
      "Requirement already satisfied: python-dateutil>=2.7 in /home/julia/miniconda3/envs/ai_course/lib/python3.12/site-packages (from matplotlib>=3.5.0->mne>=1.4->mne-bids) (2.9.0.post0)\n",
      "Requirement already satisfied: platformdirs>=2.5.0 in /home/julia/miniconda3/envs/ai_course/lib/python3.12/site-packages (from pooch>=1.5->mne>=1.4->mne-bids) (4.2.1)\n",
      "Requirement already satisfied: requests>=2.19.0 in /home/julia/miniconda3/envs/ai_course/lib/python3.12/site-packages (from pooch>=1.5->mne>=1.4->mne-bids) (2.31.0)\n",
      "Requirement already satisfied: MarkupSafe>=2.0 in /home/julia/miniconda3/envs/ai_course/lib/python3.12/site-packages (from jinja2->mne>=1.4->mne-bids) (2.1.5)\n",
      "Requirement already satisfied: six>=1.5 in /home/julia/miniconda3/envs/ai_course/lib/python3.12/site-packages (from python-dateutil>=2.7->matplotlib>=3.5.0->mne>=1.4->mne-bids) (1.16.0)\n",
      "Requirement already satisfied: charset-normalizer<4,>=2 in /home/julia/miniconda3/envs/ai_course/lib/python3.12/site-packages (from requests>=2.19.0->pooch>=1.5->mne>=1.4->mne-bids) (3.3.2)\n",
      "Requirement already satisfied: idna<4,>=2.5 in /home/julia/miniconda3/envs/ai_course/lib/python3.12/site-packages (from requests>=2.19.0->pooch>=1.5->mne>=1.4->mne-bids) (3.7)\n",
      "Requirement already satisfied: urllib3<3,>=1.21.1 in /home/julia/miniconda3/envs/ai_course/lib/python3.12/site-packages (from requests>=2.19.0->pooch>=1.5->mne>=1.4->mne-bids) (2.2.1)\n",
      "Requirement already satisfied: certifi>=2017.4.17 in /home/julia/miniconda3/envs/ai_course/lib/python3.12/site-packages (from requests>=2.19.0->pooch>=1.5->mne>=1.4->mne-bids) (2024.2.2)\n"
     ]
    }
   ],
   "source": [
    "!pip install mne\n",
    "!pip install mne-bids"
   ]
  },
  {
   "cell_type": "code",
   "execution_count": 6,
   "metadata": {},
   "outputs": [
    {
     "name": "stdout",
     "output_type": "stream",
     "text": [
      "\u001b[33mWARNING: Skipping /usr/local/fsl/6.0.7.7/lib/python3.11/site-packages/nlopt-2.7.1.dist-info due to invalid metadata entry 'name'\u001b[0m\u001b[33m\n",
      "\u001b[0maiohttp @ file:///home/conda/feedstock_root/build_artifacts/aiohttp_1701099470639/work\n",
      "aiosignal @ file:///home/conda/feedstock_root/build_artifacts/aiosignal_1667935791922/work\n",
      "ansi2html @ file:///home/conda/feedstock_root/build_artifacts/ansi2html_1703532378637/work\n",
      "anyio @ file:///home/conda/feedstock_root/build_artifacts/anyio_1702909220329/work\n",
      "archspec @ file:///home/conda/feedstock_root/build_artifacts/archspec_1699370045702/work\n",
      "argon2-cffi @ file:///home/conda/feedstock_root/build_artifacts/argon2-cffi_1692818318753/work\n",
      "argon2-cffi-bindings @ file:///home/conda/feedstock_root/build_artifacts/argon2-cffi-bindings_1695386553988/work\n",
      "arrow @ file:///home/conda/feedstock_root/build_artifacts/arrow_1696128962909/work\n",
      "asl-gui @ file:///opt/conda/conda-bld/fsl-oxford_asl_1680011409578/work/python\n",
      "asttokens @ file:///home/conda/feedstock_root/build_artifacts/asttokens_1698341106958/work\n",
      "async-lru @ file:///home/conda/feedstock_root/build_artifacts/async-lru_1690563019058/work\n",
      "attrdict==2.0.1\n",
      "attrs @ file:///home/conda/feedstock_root/build_artifacts/attrs_1704011227531/work\n",
      "awscli @ file:///home/conda/feedstock_root/build_artifacts/awscli_1701193631604/work\n",
      "awscrt @ file:///home/conda/feedstock_root/build_artifacts/awscrt_1700737416183/work\n",
      "Babel @ file:///home/conda/feedstock_root/build_artifacts/babel_1702422572539/work\n",
      "bash_kernel @ file:///home/conda/feedstock_root/build_artifacts/bash_kernel_1700925546843/work\n",
      "beautifulsoup4 @ file:///home/conda/feedstock_root/build_artifacts/beautifulsoup4_1705564648255/work\n",
      "bleach @ file:///home/conda/feedstock_root/build_artifacts/bleach_1696630167146/work\n",
      "blinker @ file:///home/conda/feedstock_root/build_artifacts/blinker_1698890160476/work\n",
      "bokeh @ file:///home/conda/feedstock_root/build_artifacts/bokeh_1660586590972/work\n",
      "boltons @ file:///home/conda/feedstock_root/build_artifacts/boltons_1703154663129/work\n",
      "Brotli @ file:///home/conda/feedstock_root/build_artifacts/brotli-split_1695989787169/work\n",
      "brukerapi @ file:///home/conda/feedstock_root/build_artifacts/brukerapi_1674001017693/work\n",
      "cached-property @ file:///home/conda/feedstock_root/build_artifacts/cached_property_1615209429212/work\n",
      "cachetools @ file:///home/conda/feedstock_root/build_artifacts/cachetools_1698197297464/work\n",
      "certifi @ file:///home/conda/feedstock_root/build_artifacts/certifi_1700303426725/work/certifi\n",
      "cffi @ file:///home/conda/feedstock_root/build_artifacts/cffi_1696001724357/work\n",
      "charset-normalizer @ file:///home/conda/feedstock_root/build_artifacts/charset-normalizer_1698833585322/work\n",
      "click @ file:///home/conda/feedstock_root/build_artifacts/click_1692311806742/work\n",
      "cloudpickle @ file:///home/conda/feedstock_root/build_artifacts/cloudpickle_1697464713350/work\n",
      "colorama @ file:///home/conda/feedstock_root/build_artifacts/colorama_1666700638685/work\n",
      "comm @ file:///home/conda/feedstock_root/build_artifacts/comm_1704278392174/work\n",
      "conda @ file:///home/conda/feedstock_root/build_artifacts/conda_1699392346065/work\n",
      "conda-libmamba-solver @ file:///home/conda/feedstock_root/build_artifacts/conda-libmamba-solver_1702406360642/work/src\n",
      "conda-package-handling @ file:///home/conda/feedstock_root/build_artifacts/conda-package-handling_1691048088238/work\n",
      "conda_package_streaming @ file:///home/conda/feedstock_root/build_artifacts/conda-package-streaming_1691009212940/work\n",
      "contourpy @ file:///home/conda/feedstock_root/build_artifacts/contourpy_1699041375599/work\n",
      "cryptography @ file:///home/conda/feedstock_root/build_artifacts/cryptography-split_1681508576793/work\n",
      "cycler @ file:///home/conda/feedstock_root/build_artifacts/cycler_1696677705766/work\n",
      "cytoolz @ file:///home/conda/feedstock_root/build_artifacts/cytoolz_1695545149561/work\n",
      "dash @ file:///home/conda/feedstock_root/build_artifacts/dash_1701153177924/work\n",
      "dask @ file:///home/conda/feedstock_root/build_artifacts/dask-core_1677707033352/work\n",
      "debugpy @ file:///home/conda/feedstock_root/build_artifacts/debugpy_1695534290440/work\n",
      "decorator @ file:///home/conda/feedstock_root/build_artifacts/decorator_1641555617451/work\n",
      "defusedxml @ file:///home/conda/feedstock_root/build_artifacts/defusedxml_1615232257335/work\n",
      "dill @ file:///home/conda/feedstock_root/build_artifacts/dill_1690101045195/work\n",
      "distributed @ file:///home/conda/feedstock_root/build_artifacts/distributed_1677711074949/work\n",
      "distro @ file:///home/conda/feedstock_root/build_artifacts/distro_1675116244235/work\n",
      "docutils @ file:///home/conda/feedstock_root/build_artifacts/docutils_1666754865005/work\n",
      "eddy-qc @ file:///opt/conda/conda-bld/fsl-eddy_qc_1689597206706/work\n",
      "entrypoints @ file:///home/conda/feedstock_root/build_artifacts/entrypoints_1643888246732/work\n",
      "exceptiongroup @ file:///home/conda/feedstock_root/build_artifacts/exceptiongroup_1704921103267/work\n",
      "executing @ file:///home/conda/feedstock_root/build_artifacts/executing_1698579936712/work\n",
      "fastjsonschema @ file:///home/conda/feedstock_root/build_artifacts/python-fastjsonschema_1703780968325/work/dist\n",
      "file-tree @ file:///home/conda/feedstock_root/build_artifacts/file-tree_1678098026662/work\n",
      "file-tree-fsl @ file:///home/conda/feedstock_root/build_artifacts/file-tree-fsl_1637872818453/work\n",
      "Flask @ file:///home/conda/feedstock_root/build_artifacts/flask_1705682375678/work\n",
      "fmrib-unpack @ file:///home/conda/feedstock_root/build_artifacts/fmrib-unpack_1695634590111/work\n",
      "fmrib-unpack-fmrib-config @ file:///home/conda/feedstock_root/build_artifacts/fmrib-unpack-fmrib-config_1698852861193/work\n",
      "fonttools @ file:///home/conda/feedstock_root/build_artifacts/fonttools_1704979841314/work\n",
      "fqdn @ file:///home/conda/feedstock_root/build_artifacts/fqdn_1638810296540/work/dist\n",
      "frozendict @ file:///home/conda/feedstock_root/build_artifacts/frozendict_1704100266198/work\n",
      "frozenlist @ file:///home/conda/feedstock_root/build_artifacts/frozenlist_1702645450877/work\n",
      "fsl-add-module @ file:///fsl-ci-rules-env/conda-bld/fsl-add_module_1691070651685/work\n",
      "fsl-base @ file:///micromamba/conda-bld/fsl-base_1695655743720/work/python\n",
      "fsl-get-standard @ file:///fsl-ci-rules-env/conda-bld/fsl-get_standard_1692380338111/work\n",
      "fsl-mrs @ file:///micromamba/conda-bld/fsl_mrs_1694013543729/work\n",
      "fsl-pipe @ file:///home/conda/feedstock_root/build_artifacts/fsl-pipe_1694077139865/work\n",
      "fsl-pyfeeds @ file:///opt/conda/conda-bld/fsl-pyfeeds_1689248937859/work\n",
      "fsl-sub @ file:///opt/conda/conda-bld/fsl_sub_1680277172848/work\n",
      "fsl-sub-plugin-sge @ file:///opt/conda/conda-bld/fsl_sub_plugin_sge_1679572106983/work\n",
      "fsl-sub-plugin-slurm @ file:///opt/conda/conda-bld/fsl_sub_plugin_slurm_1687336415263/work\n",
      "fsleyes @ file:///home/conda/feedstock_root/build_artifacts/fsleyes_1699973478300/work\n",
      "fsleyes-plugin-mrs @ file:///home/conda/feedstock_root/build_artifacts/fsleyes-plugin-mrs_1700135214449/work\n",
      "fsleyes-props @ file:///home/conda/feedstock_root/build_artifacts/fsleyes-props_1695111697743/work\n",
      "fsleyes-widgets @ file:///home/conda/feedstock_root/build_artifacts/fsleyes-widgets_1688653552125/work\n",
      "fslinstaller @ file:///micromamba/conda-bld/fsl-installer_1695394131921/work\n",
      "fslnets @ file:///micromamba/conda-bld/fsl-nets_1700137706121/work\n",
      "fslpy @ file:///home/conda/feedstock_root/build_artifacts/fslpy_1700136950295/work\n",
      "fsspec @ file:///home/conda/feedstock_root/build_artifacts/fsspec_1702335961905/work\n",
      "future @ file:///home/conda/feedstock_root/build_artifacts/future_1673596611778/work\n",
      "ghalton @ file:///opt/conda/conda-bld/ghalton_1679931053434/work\n",
      "graphviz @ file:///home/conda/feedstock_root/build_artifacts/python-graphviz_1658658635601/work\n",
      "h5py @ file:///home/conda/feedstock_root/build_artifacts/h5py_1696885505601/work\n",
      "hlsvdpropy @ file:///opt/conda/conda-bld/hlsvdpropy_1679306922868/work/dist/hlsvdpropy-2.0.1-py2.py3-none-manylinux1_x86_64.whl\n",
      "idna @ file:///home/conda/feedstock_root/build_artifacts/idna_1701026962277/work\n",
      "imagecodecs @ file:///home/conda/feedstock_root/build_artifacts/imagecodecs_1694377227844/work\n",
      "imageio @ file:///home/conda/feedstock_root/build_artifacts/imageio_1702571712725/work\n",
      "importlib-metadata @ file:///home/conda/feedstock_root/build_artifacts/importlib-metadata_1703269254275/work\n",
      "importlib-resources @ file:///home/conda/feedstock_root/build_artifacts/importlib_resources_1699364556997/work\n",
      "indexed-gzip @ file:///home/conda/feedstock_root/build_artifacts/indexed_gzip_1699373665347/work\n",
      "ipykernel @ file:///home/conda/feedstock_root/build_artifacts/ipykernel_1705417941265/work\n",
      "ipython @ file:///home/conda/feedstock_root/build_artifacts/ipython_1698846603011/work\n",
      "ipython-genutils==0.2.0\n",
      "isodate @ file:///home/conda/feedstock_root/build_artifacts/isodate_1639582763789/work\n",
      "isoduration @ file:///home/conda/feedstock_root/build_artifacts/isoduration_1638811571363/work/dist\n",
      "itsdangerous @ file:///home/conda/feedstock_root/build_artifacts/itsdangerous_1648147185463/work\n",
      "jedi @ file:///home/conda/feedstock_root/build_artifacts/jedi_1696326070614/work\n",
      "Jinja2 @ file:///home/conda/feedstock_root/build_artifacts/jinja2_1704966972576/work\n",
      "jmespath @ file:///home/conda/feedstock_root/build_artifacts/jmespath_1655568249366/work\n",
      "joblib @ file:///home/conda/feedstock_root/build_artifacts/joblib_1691577114857/work\n",
      "json5 @ file:///home/conda/feedstock_root/build_artifacts/json5_1688248289187/work\n",
      "jsonpatch @ file:///home/conda/feedstock_root/build_artifacts/jsonpatch_1695536281965/work\n",
      "jsonpointer @ file:///home/conda/feedstock_root/build_artifacts/jsonpointer_1695397236330/work\n",
      "jsonschema @ file:///home/conda/feedstock_root/build_artifacts/jsonschema-meta_1705441631682/work\n",
      "jsonschema-specifications @ file:///tmp/tmpkv1z7p57/src\n",
      "jupyter-events @ file:///home/conda/feedstock_root/build_artifacts/jupyter_events_1699285872613/work\n",
      "jupyter-lsp @ file:///home/conda/feedstock_root/build_artifacts/jupyter-lsp-meta_1705532074645/work/jupyter-lsp\n",
      "jupyter_client @ file:///home/conda/feedstock_root/build_artifacts/jupyter_client_1699283905679/work\n",
      "jupyter_core @ file:///home/conda/feedstock_root/build_artifacts/jupyter_core_1704727045866/work\n",
      "jupyter_server @ file:///home/conda/feedstock_root/build_artifacts/jupyter_server_1705418153950/work\n",
      "jupyter_server_terminals @ file:///home/conda/feedstock_root/build_artifacts/jupyter_server_terminals_1703611053195/work\n",
      "jupyterlab @ file:///home/conda/feedstock_root/build_artifacts/jupyterlab_1705683789895/work\n",
      "jupyterlab_pygments @ file:///home/conda/feedstock_root/build_artifacts/jupyterlab_pygments_1700744013163/work\n",
      "jupyterlab_server @ file:///home/conda/feedstock_root/build_artifacts/jupyterlab_server-split_1700310846957/work\n",
      "kiwisolver @ file:///home/conda/feedstock_root/build_artifacts/kiwisolver_1695379920604/work\n",
      "lazy_loader @ file:///home/conda/feedstock_root/build_artifacts/lazy_loader_1692295373316/work\n",
      "libmambapy @ file:///home/conda/feedstock_root/build_artifacts/mamba-split_1699607298048/work/libmambapy\n",
      "llvmlite==0.41.1\n",
      "locket @ file:///home/conda/feedstock_root/build_artifacts/locket_1650660393415/work\n",
      "loguru @ file:///home/conda/feedstock_root/build_artifacts/loguru_1695547322516/work\n",
      "lxml @ file:///home/conda/feedstock_root/build_artifacts/lxml_1695546690786/work\n",
      "lz4 @ file:///home/conda/feedstock_root/build_artifacts/lz4_1704831090180/work\n",
      "mamba @ file:///home/conda/feedstock_root/build_artifacts/mamba-split_1699607298048/work/mamba\n",
      "markdown-it-py @ file:///home/conda/feedstock_root/build_artifacts/markdown-it-py_1686175045316/work\n",
      "MarkupSafe @ file:///home/conda/feedstock_root/build_artifacts/markupsafe_1695367421802/work\n",
      "matplotlib @ file:///home/conda/feedstock_root/build_artifacts/matplotlib-suite_1700509438892/work\n",
      "matplotlib-inline @ file:///home/conda/feedstock_root/build_artifacts/matplotlib-inline_1660814786464/work\n",
      "mdurl @ file:///home/conda/feedstock_root/build_artifacts/mdurl_1704317613764/work\n",
      "menuinst @ file:///home/conda/feedstock_root/build_artifacts/menuinst_1705068285750/work\n",
      "mistune @ file:///home/conda/feedstock_root/build_artifacts/mistune_1698947099619/work\n",
      "msgpack @ file:///home/conda/feedstock_root/build_artifacts/msgpack-python_1700926512836/work\n",
      "multidict @ file:///home/conda/feedstock_root/build_artifacts/multidict_1696716097177/work\n",
      "munkres==1.1.4\n",
      "nbclassic @ file:///home/conda/feedstock_root/build_artifacts/nbclassic_1683202081046/work\n",
      "nbclient @ file:///home/conda/feedstock_root/build_artifacts/nbclient_1684790896106/work\n",
      "nbconvert @ file:///home/conda/feedstock_root/build_artifacts/nbconvert-meta_1705418470095/work\n",
      "nbformat @ file:///home/conda/feedstock_root/build_artifacts/nbformat_1690814868471/work\n",
      "nest_asyncio @ file:///home/conda/feedstock_root/build_artifacts/nest-asyncio_1705352640985/work\n",
      "networkx @ file:///home/conda/feedstock_root/build_artifacts/networkx_1698504735452/work\n",
      "nibabel @ file:///home/conda/feedstock_root/build_artifacts/nibabel_1702339005637/work\n",
      "nidmfsl @ file:///opt/conda/conda-bld/nidmresults-fsl_1628691303491/work\n",
      "nidmresults @ file:///opt/conda/conda-bld/nidmresults_1673593025753/work\n",
      "nifti-mrs @ file:///home/conda/feedstock_root/build_artifacts/nifti-mrs_1701897246547/work\n",
      "notebook @ file:///home/conda/feedstock_root/build_artifacts/notebook_1705686947570/work\n",
      "notebook_shim @ file:///home/conda/feedstock_root/build_artifacts/notebook-shim_1682360583588/work\n",
      "numba @ file:///home/conda/feedstock_root/build_artifacts/numba_1699456662604/work\n",
      "numexpr @ file:///home/conda/feedstock_root/build_artifacts/numexpr_1703356691297/work\n",
      "numpy @ file:///home/conda/feedstock_root/build_artifacts/numpy_1687808322243/work\n",
      "opencv-python==4.8.0\n",
      "openslide-python @ file:///opt/conda/conda-bld/openslide-python_1679931142417/work\n",
      "overrides @ file:///home/conda/feedstock_root/build_artifacts/overrides_1691338815398/work\n",
      "packaging @ file:///home/conda/feedstock_root/build_artifacts/packaging_1696202382185/work\n",
      "pandas @ file:///home/conda/feedstock_root/build_artifacts/pandas_1702057161833/work\n",
      "pandocfilters @ file:///home/conda/feedstock_root/build_artifacts/pandocfilters_1631603243851/work\n",
      "parse @ file:///home/conda/feedstock_root/build_artifacts/parse_1700929900993/work\n",
      "parso @ file:///home/conda/feedstock_root/build_artifacts/parso_1638334955874/work\n",
      "partd @ file:///home/conda/feedstock_root/build_artifacts/partd_1695667515973/work\n",
      "pathlib2 @ file:///home/conda/feedstock_root/build_artifacts/pathlib2_1695464092022/work\n",
      "patsy @ file:///home/conda/feedstock_root/build_artifacts/patsy_1704469236901/work\n",
      "pexpect @ file:///home/conda/feedstock_root/build_artifacts/pexpect_1667297516076/work\n",
      "pickleshare @ file:///home/conda/feedstock_root/build_artifacts/pickleshare_1602536217715/work\n",
      "Pillow @ file:///home/conda/feedstock_root/build_artifacts/pillow_1688255851102/work\n",
      "pkgutil_resolve_name @ file:///home/conda/feedstock_root/build_artifacts/pkgutil-resolve-name_1694617248815/work\n",
      "platformdirs @ file:///home/conda/feedstock_root/build_artifacts/platformdirs_1701708255999/work\n",
      "plotly @ file:///home/conda/feedstock_root/build_artifacts/plotly_1698272730927/work\n",
      "pluggy @ file:///home/conda/feedstock_root/build_artifacts/pluggy_1693086607691/work\n",
      "ply==3.11\n",
      "progressbar2 @ file:///home/conda/feedstock_root/build_artifacts/progressbar2_1703198744688/work\n",
      "prometheus-client @ file:///home/conda/feedstock_root/build_artifacts/prometheus_client_1700579315247/work\n",
      "prompt-toolkit @ file:///home/conda/feedstock_root/build_artifacts/prompt-toolkit_1677600924538/work\n",
      "prov @ file:///home/conda/feedstock_root/build_artifacts/prov_1604323926302/work\n",
      "psutil @ file:///home/conda/feedstock_root/build_artifacts/psutil_1702833071572/work\n",
      "ptyprocess @ file:///home/conda/feedstock_root/build_artifacts/ptyprocess_1609419310487/work/dist/ptyprocess-0.7.0-py2.py3-none-any.whl\n",
      "pure-eval @ file:///home/conda/feedstock_root/build_artifacts/pure_eval_1642875951954/work\n",
      "py-cpuinfo @ file:///home/conda/feedstock_root/build_artifacts/py-cpuinfo_1666774466606/work\n",
      "pycosat @ file:///home/conda/feedstock_root/build_artifacts/pycosat_1696355758146/work\n",
      "pycparser @ file:///home/conda/feedstock_root/build_artifacts/pycparser_1636257122734/work\n",
      "pydicom @ file:///home/conda/feedstock_root/build_artifacts/pydicom_1702744017281/work\n",
      "pydot @ file:///home/conda/feedstock_root/build_artifacts/pydot_1704460740030/work\n",
      "Pygments @ file:///home/conda/feedstock_root/build_artifacts/pygments_1700607939962/work\n",
      "PyLD @ file:///home/conda/feedstock_root/build_artifacts/pyld_1666036002046/work\n",
      "pyMapVBVD @ file:///home/conda/feedstock_root/build_artifacts/pymapvbvd_1697033794782/work\n",
      "PyOpenGL @ file:///home/conda/feedstock_root/build_artifacts/pyopengl_1652285526610/work\n",
      "pyOpenSSL @ file:///home/conda/feedstock_root/build_artifacts/pyopenssl_1680037383858/work\n",
      "pyparsing @ file:///home/conda/feedstock_root/build_artifacts/pyparsing_1690737849915/work\n",
      "PyPDF2 @ file:///home/conda/feedstock_root/build_artifacts/pypdf2_1667024492624/work\n",
      "PyQt5==5.15.9\n",
      "PyQt5-sip==12.12.2\n",
      "PySocks @ file:///home/conda/feedstock_root/build_artifacts/pysocks_1661604839144/work\n",
      "python-dateutil @ file:///home/conda/feedstock_root/build_artifacts/python-dateutil_1626286286081/work\n",
      "python-json-logger @ file:///home/conda/feedstock_root/build_artifacts/python-json-logger_1677079630776/work\n",
      "python-utils @ file:///home/conda/feedstock_root/build_artifacts/python-utils_1695889794928/work\n",
      "pytz @ file:///home/conda/feedstock_root/build_artifacts/pytz_1693930252784/work\n",
      "PyWavelets @ file:///home/conda/feedstock_root/build_artifacts/pywavelets_1695567566807/work\n",
      "PyYAML @ file:///home/conda/feedstock_root/build_artifacts/pyyaml_1695373611984/work\n",
      "pyzmq @ file:///home/conda/feedstock_root/build_artifacts/pyzmq_1701783162530/work\n",
      "rdflib @ file:///home/conda/feedstock_root/build_artifacts/rdflib-split_1690986372614/work\n",
      "referencing @ file:///home/conda/feedstock_root/build_artifacts/referencing_1704489226496/work\n",
      "requests @ file:///home/conda/feedstock_root/build_artifacts/requests_1684774241324/work\n",
      "retrying==1.3.3\n",
      "rfc3339-validator @ file:///home/conda/feedstock_root/build_artifacts/rfc3339-validator_1638811747357/work\n",
      "rfc3986-validator @ file:///home/conda/feedstock_root/build_artifacts/rfc3986-validator_1598024191506/work\n",
      "rich @ file:///home/conda/feedstock_root/build_artifacts/rich-split_1700160075651/work/dist\n",
      "rpds-py @ file:///home/conda/feedstock_root/build_artifacts/rpds-py_1705159806770/work\n",
      "Rtree @ file:///home/conda/feedstock_root/build_artifacts/rtree_1705697880707/work\n",
      "ruamel.yaml @ file:///home/conda/feedstock_root/build_artifacts/ruamel.yaml_1678272991830/work\n",
      "ruamel.yaml.clib @ file:///home/conda/feedstock_root/build_artifacts/ruamel.yaml.clib_1695996834452/work\n",
      "scikit-image @ file:///home/conda/feedstock_root/build_artifacts/scikit-image_1697028611470/work/dist/scikit_image-0.22.0-cp311-cp311-linux_x86_64.whl#sha256=53d8b95f752df47007e9e71dd1c9805b9334e1e4791cf48e3762abb922636f04\n",
      "scikit-learn @ file:///home/conda/feedstock_root/build_artifacts/scikit-learn_1705657325295/work\n",
      "SciPy @ file:///home/conda/feedstock_root/build_artifacts/scipy-split_1700812475366/work/dist/scipy-1.11.4-cp311-cp311-linux_x86_64.whl#sha256=541ab873d7e2ca49432757bee07cc2c5f839e4e27d4cec88a4f8dd915e03ba64\n",
      "seaborn @ file:///home/conda/feedstock_root/build_artifacts/seaborn-split_1704312987503/work\n",
      "Send2Trash @ file:///home/conda/feedstock_root/build_artifacts/send2trash_1682601222253/work\n",
      "sip @ file:///home/conda/feedstock_root/build_artifacts/sip_1697300428897/work\n",
      "six @ file:///home/conda/feedstock_root/build_artifacts/six_1620240208055/work\n",
      "sniffio @ file:///home/conda/feedstock_root/build_artifacts/sniffio_1662051266223/work\n",
      "sortedcontainers @ file:///home/conda/feedstock_root/build_artifacts/sortedcontainers_1621217038088/work\n",
      "soupsieve @ file:///home/conda/feedstock_root/build_artifacts/soupsieve_1693929250441/work\n",
      "spec2nii @ file:///home/conda/feedstock_root/build_artifacts/spec2nii_1701952465262/work\n",
      "stack-data @ file:///home/conda/feedstock_root/build_artifacts/stack_data_1669632077133/work\n",
      "statsmodels @ file:///home/conda/feedstock_root/build_artifacts/statsmodels_1702575375433/work\n",
      "tables @ file:///home/conda/feedstock_root/build_artifacts/pytables_1701702255584/work\n",
      "tblib @ file:///home/conda/feedstock_root/build_artifacts/tblib_1702066284995/work\n",
      "tenacity @ file:///home/conda/feedstock_root/build_artifacts/tenacity_1692026804430/work\n",
      "terminado @ file:///home/conda/feedstock_root/build_artifacts/terminado_1699810101464/work\n",
      "TextGrid==1.6.1\n",
      "threadpoolctl @ file:///home/conda/feedstock_root/build_artifacts/threadpoolctl_1689261241048/work\n",
      "tifffile @ file:///home/conda/feedstock_root/build_artifacts/tifffile_1702206213561/work\n",
      "tinycss2 @ file:///home/conda/feedstock_root/build_artifacts/tinycss2_1666100256010/work\n",
      "tirl @ file:///opt/conda/conda-bld/fsl-tirl_1689605577031/work\n",
      "toml @ file:///home/conda/feedstock_root/build_artifacts/toml_1604308577558/work\n",
      "tomli @ file:///home/conda/feedstock_root/build_artifacts/tomli_1644342247877/work\n",
      "toolz @ file:///home/conda/feedstock_root/build_artifacts/toolz_1657485559105/work\n",
      "tornado @ file:///home/conda/feedstock_root/build_artifacts/tornado_1695373450800/work\n",
      "tqdm @ file:///home/conda/feedstock_root/build_artifacts/tqdm_1691671248568/work\n",
      "traitlets @ file:///home/conda/feedstock_root/build_artifacts/traitlets_1704212992681/work\n",
      "trimesh @ file:///home/conda/feedstock_root/build_artifacts/trimesh_1705564494068/work\n",
      "truststore @ file:///home/conda/feedstock_root/build_artifacts/truststore_1694154605758/work\n",
      "types-python-dateutil @ file:///home/conda/feedstock_root/build_artifacts/types-python-dateutil_1704512562698/work\n",
      "typing-utils @ file:///home/conda/feedstock_root/build_artifacts/typing_utils_1622899189314/work\n",
      "typing_extensions @ file:///home/conda/feedstock_root/build_artifacts/typing_extensions_1702176139754/work\n",
      "tzdata @ file:///home/conda/feedstock_root/build_artifacts/python-tzdata_1703878702368/work\n",
      "uri-template @ file:///home/conda/feedstock_root/build_artifacts/uri-template_1688655812972/work/dist\n",
      "urllib3 @ file:///home/conda/feedstock_root/build_artifacts/urllib3_1697813446430/work\n",
      "vtk==9.2.6\n",
      "wcwidth @ file:///home/conda/feedstock_root/build_artifacts/wcwidth_1704731205417/work\n",
      "webcolors @ file:///home/conda/feedstock_root/build_artifacts/webcolors_1679900785843/work\n",
      "webencodings @ file:///home/conda/feedstock_root/build_artifacts/webencodings_1694681268211/work\n",
      "websocket-client @ file:///home/conda/feedstock_root/build_artifacts/websocket-client_1701630677416/work\n",
      "Werkzeug @ file:///home/conda/feedstock_root/build_artifacts/werkzeug_1698235201373/work\n",
      "wire @ file:///opt/conda/conda-bld/fsl-wire_1638265388261/work\n",
      "wslink @ file:///home/conda/feedstock_root/build_artifacts/wslink_1698265052461/work\n",
      "wxnatpy @ file:///home/conda/feedstock_root/build_artifacts/wxnatpy_1633683489436/work\n",
      "wxPython==4.2.1\n",
      "xarray @ file:///home/conda/feedstock_root/build_artifacts/xarray_1705615282644/work\n",
      "xnat @ file:///home/conda/feedstock_root/build_artifacts/xnat_1701709206688/work\n",
      "yarl @ file:///home/conda/feedstock_root/build_artifacts/yarl_1705508295175/work\n",
      "zict @ file:///home/conda/feedstock_root/build_artifacts/zict_1681770155528/work\n",
      "zipp @ file:///home/conda/feedstock_root/build_artifacts/zipp_1695255097490/work\n",
      "zstandard==0.22.0\n",
      "Note: you may need to restart the kernel to use updated packages.\n"
     ]
    }
   ],
   "source": [
    "pip freeze"
   ]
  },
  {
   "cell_type": "code",
   "execution_count": 1,
   "metadata": {},
   "outputs": [
    {
     "ename": "ModuleNotFoundError",
     "evalue": "No module named 'mne'",
     "output_type": "error",
     "traceback": [
      "\u001b[0;31m---------------------------------------------------------------------------\u001b[0m",
      "\u001b[0;31mModuleNotFoundError\u001b[0m                       Traceback (most recent call last)",
      "Cell \u001b[0;32mIn[1], line 1\u001b[0m\n\u001b[0;32m----> 1\u001b[0m \u001b[38;5;28;01mimport\u001b[39;00m \u001b[38;5;21;01mmne\u001b[39;00m\n",
      "\u001b[0;31mModuleNotFoundError\u001b[0m: No module named 'mne'"
     ]
    }
   ],
   "source": [
    "import mne"
   ]
  },
  {
   "cell_type": "code",
   "execution_count": 9,
   "metadata": {
    "id": "-p5KOlHEixzb"
   },
   "outputs": [
    {
     "ename": "ModuleNotFoundError",
     "evalue": "No module named 'mne'",
     "output_type": "error",
     "traceback": [
      "\u001b[0;31m---------------------------------------------------------------------------\u001b[0m",
      "\u001b[0;31mModuleNotFoundError\u001b[0m                       Traceback (most recent call last)",
      "Cell \u001b[0;32mIn[9], line 6\u001b[0m\n\u001b[1;32m      4\u001b[0m \u001b[38;5;28;01mimport\u001b[39;00m \u001b[38;5;21;01mmatplotlib\u001b[39;00m\u001b[38;5;21;01m.\u001b[39;00m\u001b[38;5;21;01mpyplot\u001b[39;00m \u001b[38;5;28;01mas\u001b[39;00m \u001b[38;5;21;01mplt\u001b[39;00m\n\u001b[1;32m      5\u001b[0m \u001b[38;5;28;01mimport\u001b[39;00m \u001b[38;5;21;01msklearn\u001b[39;00m\n\u001b[0;32m----> 6\u001b[0m \u001b[38;5;28;01mimport\u001b[39;00m \u001b[38;5;21;01mmne\u001b[39;00m\n\u001b[1;32m      7\u001b[0m \u001b[38;5;28;01mimport\u001b[39;00m \u001b[38;5;21;01mmne_bids\u001b[39;00m\n",
      "\u001b[0;31mModuleNotFoundError\u001b[0m: No module named 'mne'"
     ]
    }
   ],
   "source": [
    "\n",
    "# Imports\n",
    "import os.path as op\n",
    "import numpy as np\n",
    "import matplotlib.pyplot as plt\n",
    "import sklearn\n",
    "import mne\n",
    "import mne_bids"
   ]
  },
  {
   "cell_type": "markdown",
   "metadata": {
    "id": "3Ueb53V2VD0-"
   },
   "source": [
    "### Loading and Understanding Data"
   ]
  },
  {
   "cell_type": "code",
   "execution_count": null,
   "metadata": {
    "id": "MgSl-l9lVm4X"
   },
   "outputs": [],
   "source": [
    "# Loading data is easier if you are processing locally\n",
    "# RUN THIS BEFORE STARTING BREAK\n",
    "!git clone https://gin.g-node.org/sappelhoff/eeg_matchingpennies.git\n",
    "!wget -P eeg_matchingpennies/sub-05/eeg/ https://gin.g-node.org/sappelhoff/eeg_matchingpennies/raw/master/sub-05/eeg/sub-05_task-matchingpennies_eeg.eeg"
   ]
  },
  {
   "cell_type": "code",
   "execution_count": null,
   "metadata": {
    "id": "W9NbDFX_GzZE"
   },
   "outputs": [],
   "source": [
    "# There are non-MNE, lighter approaches if you have the time to implement a more specific data loader.\n",
    "bids_root = \"eeg_matchingpennies\"\n",
    "bids_path = mne_bids.BIDSPath(root=bids_root, subject=\"05\",\n",
    "                              task=\"matchingpennies\", datatype=\"eeg\", suffix=\"eeg\")\n",
    "eeg_raw = mne_bids.read_raw_bids(bids_path, verbose=False)\n",
    "eeg_raw.load_data()"
   ]
  },
  {
   "cell_type": "code",
   "execution_count": null,
   "metadata": {
    "id": "dbyQFmw-XYvJ"
   },
   "outputs": [],
   "source": [
    "eeg_raw.plot(start=10,duration=20)\n",
    "\n",
    "# TASK: Make the plots fit within the visualization\n",
    "raise NotImplementedError(\"Task not completed!\")\n",
    "\n",
    "# TASK: Plot the data with a 0.1Hz (or frequency of your preference) high-pass filter\n",
    "raise NotImplementedError(\"Task not completed!\")\n"
   ]
  },
  {
   "cell_type": "markdown",
   "metadata": {
    "id": "WW7pWaEBVngR"
   },
   "source": [
    "### Pre-Processing"
   ]
  },
  {
   "cell_type": "code",
   "execution_count": null,
   "metadata": {
    "id": "cil5o7auVn1c"
   },
   "outputs": [],
   "source": [
    "# Apply high-pass filter\n",
    "eeg_raw.filter(l_freq=0.1, h_freq=None, fir_design=\"firwin\", verbose=False)\n",
    "\n",
    "# Epoch data based on events\n",
    "id_dict = {\"raised-left/match-true\": 0, \"raised-left/match-false\": 0, \"raised-right/match-true\": 1, \"raised-right/match-false\": 1}\n",
    "events, event_ids = mne.events_from_annotations(eeg_raw, event_id=id_dict, verbose=False)\n",
    "tmin, tmax = 0, 4  # in s\n",
    "baseline = None\n",
    "eeg_epochs = mne.Epochs(\n",
    "    eeg_raw,\n",
    "    events=events,\n",
    "    event_id=event_ids,\n",
    "    tmin=tmin,\n",
    "    tmax=tmax,\n",
    "    baseline=baseline,\n",
    "    verbose=False,\n",
    ")\n",
    "eeg_epochs.plot(n_epochs=10, picks=['eeg'])\n",
    "\n",
    "eeg_clf = eeg_epochs.get_data()\n",
    "marker_clf = eeg_epochs.events[:,-1]\n",
    "\n",
    "# TASK: Modify the above code to include a second from before event\n",
    "raise NotImplementedError(\"Task not completed!\")"
   ]
  },
  {
   "cell_type": "markdown",
   "metadata": {
    "id": "QA08WwuJWE32"
   },
   "source": [
    "### Dimensionality Reduction via Principal Component Analysis"
   ]
  },
  {
   "cell_type": "code",
   "execution_count": null,
   "metadata": {
    "id": "PBjqWwlxWOgh"
   },
   "outputs": [],
   "source": [
    "from sklearn.decomposition import PCA\n",
    "\n",
    "print(eeg_clf.shape)\n",
    "print(marker_clf.shape)\n",
    "\n",
    "eeg_clf = eeg_clf.reshape(300,200010)\n",
    "\n",
    "print(eeg_clf.shape)\n",
    "\n",
    "pca = PCA(n_components=10)\n",
    "\n",
    "eeg_clf_pca = pca.fit_transform(eeg_clf)\n",
    "\n",
    "# TASK: Modify the above code to have 9 components\n",
    "raise NotImplementedError(\"Task not completed!\")"
   ]
  },
  {
   "cell_type": "markdown",
   "metadata": {
    "id": "bR_vYFy8X38M"
   },
   "source": [
    "### Classification via Support Vector Machines"
   ]
  },
  {
   "cell_type": "code",
   "execution_count": null,
   "metadata": {
    "id": "4ndmibGdYTEl"
   },
   "outputs": [],
   "source": [
    "from sklearn.model_selection import train_test_split\n",
    "from sklearn import svm\n",
    "\n",
    "svm = svm.SVC(kernel=\"rbf\", C=1, gamma=1)\n",
    "\n",
    "\n",
    "\n",
    "# TASK: Optimize your SVM parameters\n",
    "raise NotImplementedError(\"Task not completed!\")"
   ]
  },
  {
   "cell_type": "markdown",
   "metadata": {
    "id": "Ua96V4uaYTPM"
   },
   "source": [
    "### Pipelines and Validation"
   ]
  },
  {
   "cell_type": "code",
   "execution_count": null,
   "metadata": {
    "id": "ajlmscOQYVHb"
   },
   "outputs": [],
   "source": []
  },
  {
   "cell_type": "markdown",
   "metadata": {
    "id": "aB6EeVyfYVvP"
   },
   "source": [
    "### Classification via Artificial Neural Networks"
   ]
  },
  {
   "cell_type": "code",
   "execution_count": null,
   "metadata": {
    "id": "7-jR0MByYwYd"
   },
   "outputs": [],
   "source": []
  }
 ],
 "metadata": {
  "colab": {
   "authorship_tag": "ABX9TyMy98LXFLS04C/zmG07D7SD",
   "include_colab_link": true,
   "private_outputs": true,
   "provenance": []
  },
  "kernelspec": {
   "display_name": "ai_course",
   "language": "python",
   "name": "ai_course"
  },
  "language_info": {
   "codemirror_mode": {
    "name": "ipython",
    "version": 3
   },
   "file_extension": ".py",
   "mimetype": "text/x-python",
   "name": "python",
   "nbconvert_exporter": "python",
   "pygments_lexer": "ipython3",
   "version": "3.11.6"
  }
 },
 "nbformat": 4,
 "nbformat_minor": 4
}
